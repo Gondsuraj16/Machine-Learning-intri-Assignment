{
  "nbformat": 4,
  "nbformat_minor": 0,
  "metadata": {
    "colab": {
      "provenance": []
    },
    "kernelspec": {
      "name": "python3",
      "display_name": "Python 3"
    },
    "language_info": {
      "name": "python"
    }
  },
  "cells": [
    {
      "cell_type": "markdown",
      "source": [
        "1: Explain the differences between AI, ML, Deep Learning (DL), and Data\n",
        "Science (DS).\n",
        "\n",
        "Ans- Artificial intelligence (AI), machine learning (ML), deep learning (DL), and data science (DS) are interconnected fields, but they represent distinct concepts with different scopes and purposes. In essence, AI is the broadest concept of creating intelligent machines, ML is a subset of AI that enables systems to learn from data, DL is a specialized type of ML using complex neural networks, and DS is a broader discipline that uses scientific methods, including ML, to extract insights from data.\n",
        "\n",
        "AI (Artificial Intelligence) is the broad concept of making machines smart.\n",
        "\n",
        "ML (Machine Learning) is a type of AI where machines learn from data to get smart.\n",
        "\n",
        "DL (Deep Learning) is a sophisticated technique within ML that uses brain-like neural networks for more complex tasks.\n",
        "\n",
        "DS (Data Science) is a broad field that uses AI, ML, and other methods to analyze data and extract insights.\n"
      ],
      "metadata": {
        "id": "1GMNdc-VPGIB"
      }
    },
    {
      "cell_type": "markdown",
      "metadata": {
        "id": "5a89ad81"
      },
      "source": [
        "2. What are the types of machine learning? Describe each with one\n",
        "real-world example\n",
        "\n",
        "Ans-\n",
        "There are three main types of machine learning:\n",
        "\n",
        "1.  **Supervised Learning:** This type of learning uses labeled data to train a model. The model learns a mapping from input features to an output label.\n",
        "    *   **Example:** Training a model to classify emails as spam or not spam based on a dataset of emails that have already been labeled as spam or not spam.\n",
        "\n",
        "2.  **Unsupervised Learning:** This type of learning uses unlabeled data. The goal is to find patterns or structures within the data without explicit guidance on what the output should be.\n",
        "    *   **Example:** Grouping customers into different segments based on their purchasing behavior without knowing the segments beforehand.\n",
        "\n",
        "3.  **Reinforcement Learning:** This type of learning involves an agent that learns to make decisions by taking actions in an environment and receiving rewards or penalties for those actions. The agent's goal is to maximize cumulative rewards.\n",
        "    *   **Example:** Training a robot to navigate a maze by rewarding it for moving in the correct direction and penalizing it for hitting walls."
      ]
    },
    {
      "cell_type": "markdown",
      "metadata": {
        "id": "ed926da9"
      },
      "source": [
        "3. Define overfitting, underfitting, and the bias-variance tradeoff in machine\n",
        "learning.\n",
        "\n",
        "Ans- Here are the definitions for overfitting, underfitting, and the bias-variance tradeoff in machine learning:\n",
        "\n",
        "*   **Overfitting:** This occurs when a model learns the training data too well, including the noise and outliers. As a result, the model performs poorly on new, unseen data because it has essentially memorized the training set rather than learning the underlying patterns.\n",
        "\n",
        "*   **Underfitting:** This occurs when a model is too simple to capture the underlying patterns in the data. It doesn't learn the training data well and therefore performs poorly on both the training data and new data.\n",
        "\n",
        "*   **Bias-Variance Tradeoff:** This is a fundamental concept in machine learning that describes the relationship between a model's complexity and its ability to generalize to new data.\n",
        "    *   **Bias:** Represents the error from erroneous assumptions in the learning algorithm. High bias can cause a model to miss the relevant relations between features and target outputs (underfitting).\n",
        "    *   **Variance:** Represents the error from sensitivity to small fluctuations in the training set. High variance can cause a model to model the random noise in the training data (overfitting).\n",
        "    *   The tradeoff is that as you decrease bias, you often increase variance, and vice versa. The goal is to find a balance between bias and variance to build a model that generalizes well to new data."
      ]
    },
    {
      "cell_type": "markdown",
      "metadata": {
        "id": "e409074a"
      },
      "source": [
        "4.What are outliers in a dataset, and list three common techniques for\n",
        "handling them.\n",
        "\n",
        "Ans- **Outliers** are data points that significantly differ from other observations in a dataset. They can occur due to measurement errors, data entry errors, or they might represent truly anomalous events. Outliers can skew statistical analyses and negatively impact the performance of machine learning models.\n",
        "\n",
        "Here are three common techniques for handling outliers:\n",
        "\n",
        "1.  **Removing Outliers:** This is the simplest approach, where outlier data points are removed from the dataset. However, this should be done cautiously, as removing too many data points can lead to a loss of valuable information and potentially bias the remaining data. It's most appropriate when outliers are clearly due to errors.\n",
        "\n",
        "2.  **Transforming Outliers:** This involves applying mathematical transformations to the data to reduce the impact of outliers. Common transformations include logarithmic, square root, or power transformations. These can compress the range of the data and make the distribution more normal.\n",
        "\n",
        "3.  **Imputing Outliers:** Instead of removing outliers, you can replace them with more representative values. This can be done using various imputation techniques, such as replacing outliers with the mean, median, or a value estimated from other data points (e.g., using a predictive model). The choice of imputation method depends on the nature of the data and the outliers."
      ]
    },
    {
      "cell_type": "markdown",
      "metadata": {
        "id": "b535e658"
      },
      "source": [
        "5. : Explain the process of handling missing values and mention one\n",
        "imputation technique for numerical and one for categorical data.\n",
        "\n",
        "Ans- Handling missing values is a crucial step in data preprocessing, as they can lead to biased results or errors in analysis and modeling. The process typically involves identifying the missing values, understanding their patterns and reasons for being missing, and then deciding on an appropriate strategy to deal with them.\n",
        "\n",
        "Here's the general process:\n",
        "\n",
        "1.  **Identification:** Detect which data points or variables have missing values. This can be done using various methods, such as checking for `NaN`, `None`, or other placeholder values.\n",
        "2.  **Understanding the Missingness:** Determine why the data is missing. Is it random? Is it related to other variables? Understanding the missingness mechanism can help in choosing the best imputation strategy.\n",
        "3.  **Handling Strategy:** Decide how to handle the missing values. Options include:\n",
        "    *   **Deletion:** Removing rows or columns with missing values. This is suitable if the amount of missing data is small and won't significantly impact the dataset.\n",
        "    *   **Imputation:** Replacing missing values with estimated values. This is often preferred when deletion would result in significant data loss.\n",
        "    *   **Keeping Missing Values:** Some models can handle missing values directly.\n",
        "\n",
        "Here are imputation techniques for numerical and categorical data:\n",
        "\n",
        "*   **Numerical Data Imputation:**\n",
        "    *   **Mean/Median Imputation:** Replacing missing numerical values with the mean or median of the non-missing values in that column. The median is often preferred if the data has outliers.\n",
        "    *   **Example:** If you have a column of `Age` with missing values, you could replace the missing ages with the average age of all the people in your dataset.\n",
        "\n",
        "*   **Categorical Data Imputation:**\n",
        "    *   **Mode Imputation:** Replacing missing categorical values with the mode (most frequent category) of the non-missing values in that column.\n",
        "    *   **Example:** If you have a column for `City` and some entries are missing, you could fill in the missing entries with the city that appears most often in the column.\n",
        "    *   **Creating a New Category:** If missingness itself might be informative, you can create a new category (e.g., 'Unknown') for all missing values."
      ]
    },
    {
      "cell_type": "markdown",
      "source": [
        "6. Write a Python program that:\n",
        " ● Creates a synthetic imbalanced dataset with make_classification() from\n",
        " sklearn.datasets.\n",
        " ● Prints the class distribution.\n"
      ],
      "metadata": {
        "id": "lXe875E1Yy09"
      }
    },
    {
      "cell_type": "code",
      "source": [
        "\n",
        "from sklearn.datasets import make_classification\n",
        "import numpy as np\n",
        "\n",
        "# Create a synthetic imbalanced dataset\n",
        "X, y = make_classification(\n",
        "    n_samples=1000,\n",
        "    n_features=20,\n",
        "    n_informative=2,\n",
        "    n_redundant=10,\n",
        "    n_classes=2,\n",
        "    weights=[0.9, 0.1],  # Create an imbalanced dataset (90% class 0, 10% class 1)\n",
        "    flip_y=0,\n",
        "    random_state=42\n",
        ")\n",
        "\n",
        "# Print the class distribution\n",
        "unique, counts = np.unique(y, return_counts=True)\n",
        "class_distribution = dict(zip(unique, counts))\n",
        "\n",
        "print(\"Class distribution:\")\n",
        "print(class_distribution)"
      ],
      "metadata": {
        "colab": {
          "base_uri": "https://localhost:8080/"
        },
        "id": "f3KYoCr0WJvB",
        "outputId": "06efbe94-132c-4ced-d353-5f030da7956e"
      },
      "execution_count": 10,
      "outputs": [
        {
          "output_type": "stream",
          "name": "stdout",
          "text": [
            "Class distribution:\n",
            "{np.int64(0): np.int64(900), np.int64(1): np.int64(100)}\n"
          ]
        }
      ]
    },
    {
      "cell_type": "markdown",
      "source": [
        "7. Implement one-hot encoding using pandas for the following list of colors:\n",
        "['Red', 'Green', 'Blue', 'Green', 'Red']. Print the resulting dataframe."
      ],
      "metadata": {
        "id": "QhGzA9F6YhOJ"
      }
    },
    {
      "cell_type": "code",
      "metadata": {
        "colab": {
          "base_uri": "https://localhost:8080/"
        },
        "id": "eaffc8ab",
        "outputId": "252d1888-f0de-4f82-edeb-60706c10f2fa"
      },
      "source": [
        "\n",
        "\n",
        "import pandas as pd\n",
        "\n",
        "# List of colors\n",
        "colors = ['Red', 'Green', 'Blue', 'Green', 'Red']\n",
        "\n",
        "# Create a pandas Series from the list\n",
        "colors_series = pd.Series(colors)\n",
        "\n",
        "# Perform one-hot encoding\n",
        "one_hot_encoded = pd.get_dummies(colors_series)\n",
        "\n",
        "# Print the resulting dataframe\n",
        "print(one_hot_encoded)"
      ],
      "execution_count": 11,
      "outputs": [
        {
          "output_type": "stream",
          "name": "stdout",
          "text": [
            "    Blue  Green    Red\n",
            "0  False  False   True\n",
            "1  False   True  False\n",
            "2   True  False  False\n",
            "3  False   True  False\n",
            "4  False  False   True\n"
          ]
        }
      ]
    },
    {
      "cell_type": "markdown",
      "source": [
        " 8. Write a Python script to:\n",
        "● Generate 1000 samples from a normal distribution.\n",
        "● Introduce 50 random missing values.\n",
        "● Fill missing values with the column mean.\n",
        "● Plot a histogram before and after imputation."
      ],
      "metadata": {
        "id": "ryymeliyYmQ5"
      }
    },
    {
      "cell_type": "code",
      "metadata": {
        "colab": {
          "base_uri": "https://localhost:8080/",
          "height": 607
        },
        "id": "651f9b0a",
        "outputId": "5dadda7c-76d7-456b-b86c-fa627928b944"
      },
      "source": [
        "\n",
        "\n",
        "import numpy as np\n",
        "import matplotlib.pyplot as plt\n",
        "import pandas as pd\n",
        "\n",
        "# Generate 1000 samples from a normal distribution\n",
        "np.random.seed(42) # for reproducibility\n",
        "data = np.random.normal(loc=0, scale=1, size=1000)\n",
        "data_with_missing = data.copy()\n",
        "\n",
        "# Introduce 50 random missing values\n",
        "missing_indices = np.random.choice(len(data), size=50, replace=False)\n",
        "data_with_missing[missing_indices] = np.nan\n",
        "\n",
        "# Convert to pandas Series for easy handling of missing values\n",
        "data_series = pd.Series(data_with_missing)\n",
        "\n",
        "# Plot histogram before imputation\n",
        "plt.figure(figsize=(12, 6))\n",
        "plt.subplot(1, 2, 1)\n",
        "plt.hist(data_series.dropna(), bins=30, edgecolor='black')\n",
        "plt.title('Distribution before Imputation')\n",
        "plt.xlabel('Value')\n",
        "plt.ylabel('Frequency')\n",
        "\n",
        "# Fill missing values with the column mean\n",
        "imputed_data = data_series.fillna(data_series.mean())\n",
        "\n",
        "# Plot histogram after imputation\n",
        "plt.subplot(1, 2, 2)\n",
        "plt.hist(imputed_data, bins=30, edgecolor='black')\n",
        "plt.title('Distribution after Mean Imputation')\n",
        "plt.xlabel('Value')\n",
        "plt.ylabel('Frequency')\n",
        "\n",
        "plt.tight_layout()\n",
        "plt.show()"
      ],
      "execution_count": 12,
      "outputs": [
        {
          "output_type": "display_data",
          "data": {
            "text/plain": [
              "<Figure size 1200x600 with 2 Axes>"
            ],
            "image/png": "[encoded data removed]"
          },
          "metadata": {}
        }
      ]
    },
    {
      "cell_type": "markdown",
      "source": [
        "9. Implement Min-Max scaling on the following list of numbers [2, 5, 10, 15,\n",
        "20] using sklearn.preprocessing.MinMaxScaler. Print the scaled array."
      ],
      "metadata": {
        "id": "-A7eT6CsYqv-"
      }
    },
    {
      "cell_type": "code",
      "metadata": {
        "colab": {
          "base_uri": "https://localhost:8080/"
        },
        "id": "ecc41c36",
        "outputId": "6da6d917-33d1-4d8d-acf1-004fbb7ae330"
      },
      "source": [
        "\n",
        "\n",
        "from sklearn.preprocessing import MinMaxScaler\n",
        "import numpy as np\n",
        "\n",
        "# List of numbers\n",
        "data = np.array([2, 5, 10, 15, 20]).reshape(-1, 1)\n",
        "\n",
        "# Create a MinMaxScaler object\n",
        "scaler = MinMaxScaler()\n",
        "\n",
        "# Fit the scaler to the data and transform the data\n",
        "scaled_data = scaler.fit_transform(data)\n",
        "\n",
        "# Print the scaled array\n",
        "print(\"Scaled data using Min-Max scaling:\")\n",
        "print(scaled_data)"
      ],
      "execution_count": 13,
      "outputs": [
        {
          "output_type": "stream",
          "name": "stdout",
          "text": [
            "Scaled data using Min-Max scaling:\n",
            "[[0.        ]\n",
            " [0.16666667]\n",
            " [0.44444444]\n",
            " [0.72222222]\n",
            " [1.        ]]\n"
          ]
        }
      ]
    },
    {
      "cell_type": "markdown",
      "metadata": {
        "id": "06c57af5"
      },
      "source": [
        "10. You are working as a data scientist for a retail company. You receive a customer\n",
        "transaction dataset that contains:\n",
        "\n",
        "● Missing ages,\n",
        "● Outliers in transaction amount,\n",
        "\n",
        "● A highly imbalanced target (fraud vs. non-fraud),\n",
        "\n",
        "● Categorical variables like payment method.\n",
        "Explain the step-by-step data preparation plan you’d follow before training a machine learning\n",
        "model. Include how you’d address missing data, outliers, imbalance, and encoding.\n",
        "\n",
        "4# Task\n",
        "Explain the step-by-step data preparation plan you’d follow before training a machine learning model on a customer transaction dataset with missing ages, outliers in transaction amount, a highly imbalanced target (fraud vs. non-fraud), and categorical variables like payment method. Include how you’d address missing data, outliers, imbalance, and encoding."
      ]
    },
    {
      "cell_type": "markdown",
      "metadata": {
        "id": "1b3ca6c5"
      },
      "source": [
        "## Load the data\n",
        "\n",
        "### Subtask:\n",
        "Load the customer transaction dataset into a pandas DataFrame.\n"
      ]
    },
    {
      "cell_type": "markdown",
      "metadata": {
        "id": "7c966a0b"
      },
      "source": [
        "**Reasoning**:\n",
        "The first step is to load the dataset into a pandas DataFrame and inspect its structure and content.\n",
        "\n"
      ]
    },
    {
      "cell_type": "code",
      "metadata": {
        "colab": {
          "base_uri": "https://localhost:8080/",
          "height": 356
        },
        "id": "5c2cd546",
        "outputId": "b84a12a0-d874-4c56-8671-09052d0f2886"
      },
      "source": [
        "import pandas as pd\n",
        "\n",
        "# Load the dataset\n",
        "df = pd.read_csv('customer_transactions.csv')\n",
        "\n",
        "# Display the first 5 rows\n",
        "display(df.head())\n",
        "\n",
        "# Display information about the DataFrame\n",
        "display(df.info())"
      ],
      "execution_count": 14,
      "outputs": [
        {
          "output_type": "error",
          "ename": "FileNotFoundError",
          "evalue": "[Errno 2] No such file or directory: 'customer_transactions.csv'",
          "traceback": [
            "\u001b[0;31m---------------------------------------------------------------------------\u001b[0m",
            "\u001b[0;31mFileNotFoundError\u001b[0m                         Traceback (most recent call last)",
            "\u001b[0;32m/tmp/ipython-input-620076496.py\u001b[0m in \u001b[0;36m<cell line: 0>\u001b[0;34m()\u001b[0m\n\u001b[1;32m      2\u001b[0m \u001b[0;34m\u001b[0m\u001b[0m\n\u001b[1;32m      3\u001b[0m \u001b[0;31m# Load the dataset\u001b[0m\u001b[0;34m\u001b[0m\u001b[0;34m\u001b[0m\u001b[0m\n\u001b[0;32m----> 4\u001b[0;31m \u001b[0mdf\u001b[0m \u001b[0;34m=\u001b[0m \u001b[0mpd\u001b[0m\u001b[0;34m.\u001b[0m\u001b[0mread_csv\u001b[0m\u001b[0;34m(\u001b[0m\u001b[0;34m'customer_transactions.csv'\u001b[0m\u001b[0;34m)\u001b[0m\u001b[0;34m\u001b[0m\u001b[0;34m\u001b[0m\u001b[0m\n\u001b[0m\u001b[1;32m      5\u001b[0m \u001b[0;34m\u001b[0m\u001b[0m\n\u001b[1;32m      6\u001b[0m \u001b[0;31m# Display the first 5 rows\u001b[0m\u001b[0;34m\u001b[0m\u001b[0;34m\u001b[0m\u001b[0m\n",
            "\u001b[0;32m/usr/local/lib/python3.12/dist-packages/pandas/io/parsers/readers.py\u001b[0m in \u001b[0;36mread_csv\u001b[0;34m(filepath_or_buffer, sep, delimiter, header, names, index_col, usecols, dtype, engine, converters, true_values, false_values, skipinitialspace, skiprows, skipfooter, nrows, na_values, keep_default_na, na_filter, verbose, skip_blank_lines, parse_dates, infer_datetime_format, keep_date_col, date_parser, date_format, dayfirst, cache_dates, iterator, chunksize, compression, thousands, decimal, lineterminator, quotechar, quoting, doublequote, escapechar, comment, encoding, encoding_errors, dialect, on_bad_lines, delim_whitespace, low_memory, memory_map, float_precision, storage_options, dtype_backend)\u001b[0m\n\u001b[1;32m   1024\u001b[0m     \u001b[0mkwds\u001b[0m\u001b[0;34m.\u001b[0m\u001b[0mupdate\u001b[0m\u001b[0;34m(\u001b[0m\u001b[0mkwds_defaults\u001b[0m\u001b[0;34m)\u001b[0m\u001b[0;34m\u001b[0m\u001b[0;34m\u001b[0m\u001b[0m\n\u001b[1;32m   1025\u001b[0m \u001b[0;34m\u001b[0m\u001b[0m\n\u001b[0;32m-> 1026\u001b[0;31m     \u001b[0;32mreturn\u001b[0m \u001b[0m_read\u001b[0m\u001b[0;34m(\u001b[0m\u001b[0mfilepath_or_buffer\u001b[0m\u001b[0;34m,\u001b[0m \u001b[0mkwds\u001b[0m\u001b[0;34m)\u001b[0m\u001b[0;34m\u001b[0m\u001b[0;34m\u001b[0m\u001b[0m\n\u001b[0m\u001b[1;32m   1027\u001b[0m \u001b[0;34m\u001b[0m\u001b[0m\n\u001b[1;32m   1028\u001b[0m \u001b[0;34m\u001b[0m\u001b[0m\n",
            "\u001b[0;32m/usr/local/lib/python3.12/dist-packages/pandas/io/parsers/readers.py\u001b[0m in \u001b[0;36m_read\u001b[0;34m(filepath_or_buffer, kwds)\u001b[0m\n\u001b[1;32m    618\u001b[0m \u001b[0;34m\u001b[0m\u001b[0m\n\u001b[1;32m    619\u001b[0m     \u001b[0;31m# Create the parser.\u001b[0m\u001b[0;34m\u001b[0m\u001b[0;34m\u001b[0m\u001b[0m\n\u001b[0;32m--> 620\u001b[0;31m     \u001b[0mparser\u001b[0m \u001b[0;34m=\u001b[0m \u001b[0mTextFileReader\u001b[0m\u001b[0;34m(\u001b[0m\u001b[0mfilepath_or_buffer\u001b[0m\u001b[0;34m,\u001b[0m \u001b[0;34m**\u001b[0m\u001b[0mkwds\u001b[0m\u001b[0;34m)\u001b[0m\u001b[0;34m\u001b[0m\u001b[0;34m\u001b[0m\u001b[0m\n\u001b[0m\u001b[1;32m    621\u001b[0m \u001b[0;34m\u001b[0m\u001b[0m\n\u001b[1;32m    622\u001b[0m     \u001b[0;32mif\u001b[0m \u001b[0mchunksize\u001b[0m \u001b[0;32mor\u001b[0m \u001b[0miterator\u001b[0m\u001b[0;34m:\u001b[0m\u001b[0;34m\u001b[0m\u001b[0;34m\u001b[0m\u001b[0m\n",
            "\u001b[0;32m/usr/local/lib/python3.12/dist-packages/pandas/io/parsers/readers.py\u001b[0m in \u001b[0;36m__init__\u001b[0;34m(self, f, engine, **kwds)\u001b[0m\n\u001b[1;32m   1618\u001b[0m \u001b[0;34m\u001b[0m\u001b[0m\n\u001b[1;32m   1619\u001b[0m         \u001b[0mself\u001b[0m\u001b[0;34m.\u001b[0m\u001b[0mhandles\u001b[0m\u001b[0;34m:\u001b[0m \u001b[0mIOHandles\u001b[0m \u001b[0;34m|\u001b[0m \u001b[0;32mNone\u001b[0m \u001b[0;34m=\u001b[0m \u001b[0;32mNone\u001b[0m\u001b[0;34m\u001b[0m\u001b[0;34m\u001b[0m\u001b[0m\n\u001b[0;32m-> 1620\u001b[0;31m         \u001b[0mself\u001b[0m\u001b[0;34m.\u001b[0m\u001b[0m_engine\u001b[0m \u001b[0;34m=\u001b[0m \u001b[0mself\u001b[0m\u001b[0;34m.\u001b[0m\u001b[0m_make_engine\u001b[0m\u001b[0;34m(\u001b[0m\u001b[0mf\u001b[0m\u001b[0;34m,\u001b[0m \u001b[0mself\u001b[0m\u001b[0;34m.\u001b[0m\u001b[0mengine\u001b[0m\u001b[0;34m)\u001b[0m\u001b[0;34m\u001b[0m\u001b[0;34m\u001b[0m\u001b[0m\n\u001b[0m\u001b[1;32m   1621\u001b[0m \u001b[0;34m\u001b[0m\u001b[0m\n\u001b[1;32m   1622\u001b[0m     \u001b[0;32mdef\u001b[0m \u001b[0mclose\u001b[0m\u001b[0;34m(\u001b[0m\u001b[0mself\u001b[0m\u001b[0;34m)\u001b[0m \u001b[0;34m->\u001b[0m \u001b[0;32mNone\u001b[0m\u001b[0;34m:\u001b[0m\u001b[0;34m\u001b[0m\u001b[0;34m\u001b[0m\u001b[0m\n",
            "\u001b[0;32m/usr/local/lib/python3.12/dist-packages/pandas/io/parsers/readers.py\u001b[0m in \u001b[0;36m_make_engine\u001b[0;34m(self, f, engine)\u001b[0m\n\u001b[1;32m   1878\u001b[0m                 \u001b[0;32mif\u001b[0m \u001b[0;34m\"b\"\u001b[0m \u001b[0;32mnot\u001b[0m \u001b[0;32min\u001b[0m \u001b[0mmode\u001b[0m\u001b[0;34m:\u001b[0m\u001b[0;34m\u001b[0m\u001b[0;34m\u001b[0m\u001b[0m\n\u001b[1;32m   1879\u001b[0m                     \u001b[0mmode\u001b[0m \u001b[0;34m+=\u001b[0m \u001b[0;34m\"b\"\u001b[0m\u001b[0;34m\u001b[0m\u001b[0;34m\u001b[0m\u001b[0m\n\u001b[0;32m-> 1880\u001b[0;31m             self.handles = get_handle(\n\u001b[0m\u001b[1;32m   1881\u001b[0m                 \u001b[0mf\u001b[0m\u001b[0;34m,\u001b[0m\u001b[0;34m\u001b[0m\u001b[0;34m\u001b[0m\u001b[0m\n\u001b[1;32m   1882\u001b[0m                 \u001b[0mmode\u001b[0m\u001b[0;34m,\u001b[0m\u001b[0;34m\u001b[0m\u001b[0;34m\u001b[0m\u001b[0m\n",
            "\u001b[0;32m/usr/local/lib/python3.12/dist-packages/pandas/io/common.py\u001b[0m in \u001b[0;36mget_handle\u001b[0;34m(path_or_buf, mode, encoding, compression, memory_map, is_text, errors, storage_options)\u001b[0m\n\u001b[1;32m    871\u001b[0m         \u001b[0;32mif\u001b[0m \u001b[0mioargs\u001b[0m\u001b[0;34m.\u001b[0m\u001b[0mencoding\u001b[0m \u001b[0;32mand\u001b[0m \u001b[0;34m\"b\"\u001b[0m \u001b[0;32mnot\u001b[0m \u001b[0;32min\u001b[0m \u001b[0mioargs\u001b[0m\u001b[0;34m.\u001b[0m\u001b[0mmode\u001b[0m\u001b[0;34m:\u001b[0m\u001b[0;34m\u001b[0m\u001b[0;34m\u001b[0m\u001b[0m\n\u001b[1;32m    872\u001b[0m             \u001b[0;31m# Encoding\u001b[0m\u001b[0;34m\u001b[0m\u001b[0;34m\u001b[0m\u001b[0m\n\u001b[0;32m--> 873\u001b[0;31m             handle = open(\n\u001b[0m\u001b[1;32m    874\u001b[0m                 \u001b[0mhandle\u001b[0m\u001b[0;34m,\u001b[0m\u001b[0;34m\u001b[0m\u001b[0;34m\u001b[0m\u001b[0m\n\u001b[1;32m    875\u001b[0m                 \u001b[0mioargs\u001b[0m\u001b[0;34m.\u001b[0m\u001b[0mmode\u001b[0m\u001b[0;34m,\u001b[0m\u001b[0;34m\u001b[0m\u001b[0;34m\u001b[0m\u001b[0m\n",
            "\u001b[0;31mFileNotFoundError\u001b[0m: [Errno 2] No such file or directory: 'customer_transactions.csv'"
          ]
        }
      ]
    }
  ]
}